{
 "cells": [
  {
   "cell_type": "markdown",
   "metadata": {},
   "source": [
    "# Dropout\n",
    "\n",
    "In this notebook, you will implement dropout.  Then we will ask you to train a network with batchnorm and dropout, and acheive over 55% accuracy on CIFAR-10.\n",
    "\n",
    "Utils has a solid API for building these modular frameworks and training them, and we will use this very well implemented framework as opposed to \"reinventing the wheel.\"  This includes using the Solver, various utility functions, and the layer structure.  This also includes nndl.fc_net, nndl.layers, and nndl.layer_utils."
   ]
  },
  {
   "cell_type": "code",
   "execution_count": 1,
   "metadata": {
    "collapsed": true
   },
   "outputs": [],
   "source": [
    "## Import and setups\n",
    "\n",
    "import time\n",
    "import numpy as np\n",
    "import matplotlib.pyplot as plt\n",
    "from nndl.fc_net import *\n",
    "from nndl.layers import *\n",
    "from utils.data_utils import get_CIFAR10_data\n",
    "from utils.gradient_check import eval_numerical_gradient, eval_numerical_gradient_array\n",
    "from utils.solver import Solver\n",
    "\n",
    "%matplotlib inline\n",
    "plt.rcParams['figure.figsize'] = (10.0, 8.0) # set default size of plots\n",
    "plt.rcParams['image.interpolation'] = 'nearest'\n",
    "plt.rcParams['image.cmap'] = 'gray'\n",
    "\n",
    "# for auto-reloading external modules\n",
    "# see http://stackoverflow.com/questions/1907993/autoreload-of-modules-in-ipython\n",
    "%load_ext autoreload\n",
    "%autoreload 2\n",
    "\n",
    "def rel_error(x, y):\n",
    "    \"\"\" returns relative error \"\"\"\n",
    "    return np.max(np.abs(x - y) / (np.maximum(1e-8, np.abs(x) + np.abs(y))))"
   ]
  },
  {
   "cell_type": "code",
   "execution_count": 2,
   "metadata": {},
   "outputs": [
    {
     "name": "stdout",
     "output_type": "stream",
     "text": [
      "X_train: (49000, 3, 32, 32) \n",
      "y_train: (49000,) \n",
      "X_val: (1000, 3, 32, 32) \n",
      "y_val: (1000,) \n",
      "X_test: (1000, 3, 32, 32) \n",
      "y_test: (1000,) \n"
     ]
    }
   ],
   "source": [
    "# Load the (preprocessed) CIFAR10 data.\n",
    "\n",
    "data = get_CIFAR10_data()\n",
    "for k in data.keys():\n",
    "    print('{}: {} '.format(k, data[k].shape))"
   ]
  },
  {
   "cell_type": "markdown",
   "metadata": {},
   "source": [
    "## Dropout forward pass\n",
    "\n",
    "Implement the training and test time dropout forward pass, `dropout_forward`, in `nndl/layers.py`. After that, test your implementation by running the following cell."
   ]
  },
  {
   "cell_type": "code",
   "execution_count": 14,
   "metadata": {},
   "outputs": [
    {
     "name": "stdout",
     "output_type": "stream",
     "text": [
      "Running tests with p =  0.3\n",
      "Mean of input:  10.002898472632062\n",
      "Mean of train-time output:  10.025619592528209\n",
      "Mean of test-time output:  10.002898472632062\n",
      "Fraction of train-time output set to zero:  0.699396\n",
      "Fraction of test-time output set to zero:  0.0\n",
      "\n",
      "Running tests with p =  0.6\n",
      "Mean of input:  10.002898472632062\n",
      "Mean of train-time output:  10.015838393782959\n",
      "Mean of test-time output:  10.002898472632062\n",
      "Fraction of train-time output set to zero:  0.399256\n",
      "Fraction of test-time output set to zero:  0.0\n",
      "\n",
      "Running tests with p =  0.75\n",
      "Mean of input:  10.002898472632062\n",
      "Mean of train-time output:  10.015224946990443\n",
      "Mean of test-time output:  10.002898472632062\n",
      "Fraction of train-time output set to zero:  0.248928\n",
      "Fraction of test-time output set to zero:  0.0\n",
      "\n"
     ]
    }
   ],
   "source": [
    "x = np.random.randn(500, 500) + 10\n",
    "\n",
    "for p in [0.3, 0.6, 0.75]:\n",
    "    out, _ = dropout_forward(x, {'mode': 'train', 'p': p})\n",
    "    out_test, _ = dropout_forward(x, {'mode': 'test', 'p': p})\n",
    "\n",
    "    print('Running tests with p = ', p)\n",
    "    print('Mean of input: ', x.mean())\n",
    "    print('Mean of train-time output: ', out.mean())\n",
    "    print('Mean of test-time output: ', out_test.mean())\n",
    "    print('Fraction of train-time output set to zero: ', (out == 0).mean())\n",
    "    print('Fraction of test-time output set to zero: ', (out_test == 0).mean())\n",
    "    print(  )"
   ]
  },
  {
   "cell_type": "markdown",
   "metadata": {},
   "source": [
    "## Dropout backward pass\n",
    "\n",
    "Implement the backward pass, `dropout_backward`, in `nndl/layers.py`.  After that, test your gradients by running the following cell:"
   ]
  },
  {
   "cell_type": "code",
   "execution_count": 15,
   "metadata": {},
   "outputs": [
    {
     "name": "stdout",
     "output_type": "stream",
     "text": [
      "dx relative error:  5.4456104932567176e-11\n"
     ]
    }
   ],
   "source": [
    "x = np.random.randn(10, 10) + 10\n",
    "dout = np.random.randn(*x.shape)\n",
    "\n",
    "dropout_param = {'mode': 'train', 'p': 0.8, 'seed': 123}\n",
    "out, cache = dropout_forward(x, dropout_param)\n",
    "dx = dropout_backward(dout, cache)\n",
    "dx_num = eval_numerical_gradient_array(lambda xx: dropout_forward(xx, dropout_param)[0], x, dout)\n",
    "\n",
    "print('dx relative error: ', rel_error(dx, dx_num))"
   ]
  },
  {
   "cell_type": "markdown",
   "metadata": {},
   "source": [
    "## Implement a fully connected neural network with dropout layers\n",
    "\n",
    "Modify the `FullyConnectedNet()` class in `nndl/fc_net.py` to incorporate dropout.  A dropout layer should be incorporated after every ReLU layer.  Concretely, there shouldn't be a dropout at the output layer since there is no ReLU at the output layer. You will need to modify the class in the following areas:\n",
    "\n",
    "(1) In the forward pass, you will need to incorporate a dropout layer after every relu layer.\n",
    "\n",
    "(2) In the backward pass, you will need to incorporate a dropout backward pass layer.\n",
    "\n",
    "Check your implementation by running the following code.  Our W1 gradient relative error is on the order of 1e-6 (the largest of all the relative errors)."
   ]
  },
  {
   "cell_type": "code",
   "execution_count": 17,
   "metadata": {},
   "outputs": [
    {
     "name": "stdout",
     "output_type": "stream",
     "text": [
      "Running check with dropout =  0.5\n",
      "Initial loss:  2.3050396176612384\n",
      "W1 relative error: 7.839091367974606e-07\n",
      "W2 relative error: 2.5656696352835975e-07\n",
      "W3 relative error: 7.66140281048889e-08\n",
      "b1 relative error: 4.461314594443551e-09\n",
      "b2 relative error: 7.630256229692641e-10\n",
      "b3 relative error: 1.7671730210721276e-10\n",
      "\n",
      "\n",
      "Running check with dropout =  0.75\n",
      "Initial loss:  2.2924165725936616\n",
      "W1 relative error: 1.913764152741491e-07\n",
      "W2 relative error: 1.3174644422188826e-07\n",
      "W3 relative error: 3.246749313511893e-07\n",
      "b1 relative error: 7.519165775969613e-09\n",
      "b2 relative error: 1.9613765149833703e-09\n",
      "b3 relative error: 1.4849637974979418e-10\n",
      "\n",
      "\n",
      "Running check with dropout =  1.0\n",
      "Initial loss:  2.3055208155971316\n",
      "W1 relative error: 5.474025246189813e-07\n",
      "W2 relative error: 7.600892283230569e-08\n",
      "W3 relative error: 4.657460911645141e-08\n",
      "b1 relative error: 6.88212284937315e-09\n",
      "b2 relative error: 1.5631103560839323e-09\n",
      "b3 relative error: 1.6519207248783954e-10\n",
      "\n",
      "\n"
     ]
    }
   ],
   "source": [
    "N, D, H1, H2, C = 2, 15, 20, 30, 10\n",
    "X = np.random.randn(N, D)\n",
    "y = np.random.randint(C, size=(N,))\n",
    "\n",
    "for dropout in [0.5, 0.75, 1.0]:\n",
    "    print('Running check with dropout = ', dropout)\n",
    "    model = FullyConnectedNet([H1, H2], input_dim=D, num_classes=C,\n",
    "                              weight_scale=5e-2, dtype=np.float64,\n",
    "                              dropout=dropout, seed=123)\n",
    "\n",
    "    loss, grads = model.loss(X, y)\n",
    "    print('Initial loss: ', loss)\n",
    "\n",
    "    for name in sorted(grads):\n",
    "        f = lambda _: model.loss(X, y)[0]\n",
    "        grad_num = eval_numerical_gradient(f, model.params[name], verbose=False, h=1e-5)\n",
    "        print('{} relative error: {}'.format(name, rel_error(grad_num, grads[name])))\n",
    "    print('\\n')"
   ]
  },
  {
   "cell_type": "markdown",
   "metadata": {},
   "source": [
    "## Dropout as a regularizer\n",
    "\n",
    "In class, we claimed that dropout acts as a regularizer by effectively bagging.  To check this, we will train two small networks, one with dropout and one without dropout.  "
   ]
  },
  {
   "cell_type": "code",
   "execution_count": 42,
   "metadata": {},
   "outputs": [
    {
     "name": "stdout",
     "output_type": "stream",
     "text": [
      "(Iteration 1 / 125) loss: 2.299614\n",
      "(Epoch 0 / 25) train acc: 0.158000; val_acc: 0.155000\n",
      "(Epoch 1 / 25) train acc: 0.162000; val_acc: 0.162000\n",
      "(Epoch 2 / 25) train acc: 0.254000; val_acc: 0.231000\n",
      "(Epoch 3 / 25) train acc: 0.298000; val_acc: 0.256000\n",
      "(Epoch 4 / 25) train acc: 0.344000; val_acc: 0.284000\n",
      "(Epoch 5 / 25) train acc: 0.342000; val_acc: 0.264000\n",
      "(Epoch 6 / 25) train acc: 0.416000; val_acc: 0.297000\n",
      "(Epoch 7 / 25) train acc: 0.458000; val_acc: 0.299000\n",
      "(Epoch 8 / 25) train acc: 0.472000; val_acc: 0.309000\n",
      "(Epoch 9 / 25) train acc: 0.558000; val_acc: 0.310000\n",
      "(Epoch 10 / 25) train acc: 0.610000; val_acc: 0.323000\n",
      "(Epoch 11 / 25) train acc: 0.610000; val_acc: 0.292000\n",
      "(Epoch 12 / 25) train acc: 0.658000; val_acc: 0.322000\n",
      "(Epoch 13 / 25) train acc: 0.732000; val_acc: 0.313000\n",
      "(Epoch 14 / 25) train acc: 0.752000; val_acc: 0.290000\n",
      "(Epoch 15 / 25) train acc: 0.792000; val_acc: 0.324000\n",
      "(Epoch 16 / 25) train acc: 0.818000; val_acc: 0.303000\n",
      "(Epoch 17 / 25) train acc: 0.848000; val_acc: 0.289000\n",
      "(Epoch 18 / 25) train acc: 0.882000; val_acc: 0.296000\n",
      "(Epoch 19 / 25) train acc: 0.924000; val_acc: 0.289000\n",
      "(Epoch 20 / 25) train acc: 0.934000; val_acc: 0.284000\n",
      "(Iteration 101 / 125) loss: 0.231835\n",
      "(Epoch 21 / 25) train acc: 0.952000; val_acc: 0.285000\n",
      "(Epoch 22 / 25) train acc: 0.970000; val_acc: 0.303000\n",
      "(Epoch 23 / 25) train acc: 0.984000; val_acc: 0.275000\n",
      "(Epoch 24 / 25) train acc: 0.988000; val_acc: 0.285000\n",
      "(Epoch 25 / 25) train acc: 0.984000; val_acc: 0.279000\n",
      "(Iteration 1 / 125) loss: 2.304071\n",
      "(Epoch 0 / 25) train acc: 0.220000; val_acc: 0.170000\n",
      "(Epoch 1 / 25) train acc: 0.290000; val_acc: 0.206000\n",
      "(Epoch 2 / 25) train acc: 0.270000; val_acc: 0.213000\n",
      "(Epoch 3 / 25) train acc: 0.328000; val_acc: 0.255000\n",
      "(Epoch 4 / 25) train acc: 0.392000; val_acc: 0.298000\n",
      "(Epoch 5 / 25) train acc: 0.402000; val_acc: 0.293000\n",
      "(Epoch 6 / 25) train acc: 0.436000; val_acc: 0.299000\n",
      "(Epoch 7 / 25) train acc: 0.508000; val_acc: 0.322000\n",
      "(Epoch 8 / 25) train acc: 0.560000; val_acc: 0.323000\n",
      "(Epoch 9 / 25) train acc: 0.592000; val_acc: 0.324000\n",
      "(Epoch 10 / 25) train acc: 0.634000; val_acc: 0.302000\n",
      "(Epoch 11 / 25) train acc: 0.670000; val_acc: 0.298000\n",
      "(Epoch 12 / 25) train acc: 0.760000; val_acc: 0.317000\n",
      "(Epoch 13 / 25) train acc: 0.736000; val_acc: 0.310000\n",
      "(Epoch 14 / 25) train acc: 0.788000; val_acc: 0.311000\n",
      "(Epoch 15 / 25) train acc: 0.782000; val_acc: 0.300000\n",
      "(Epoch 16 / 25) train acc: 0.854000; val_acc: 0.304000\n",
      "(Epoch 17 / 25) train acc: 0.882000; val_acc: 0.300000\n",
      "(Epoch 18 / 25) train acc: 0.908000; val_acc: 0.267000\n",
      "(Epoch 19 / 25) train acc: 0.924000; val_acc: 0.300000\n",
      "(Epoch 20 / 25) train acc: 0.946000; val_acc: 0.281000\n",
      "(Iteration 101 / 125) loss: 0.234402\n",
      "(Epoch 21 / 25) train acc: 0.966000; val_acc: 0.295000\n",
      "(Epoch 22 / 25) train acc: 0.980000; val_acc: 0.281000\n",
      "(Epoch 23 / 25) train acc: 0.978000; val_acc: 0.283000\n",
      "(Epoch 24 / 25) train acc: 0.982000; val_acc: 0.305000\n",
      "(Epoch 25 / 25) train acc: 0.992000; val_acc: 0.296000\n"
     ]
    }
   ],
   "source": [
    "# Train two identical nets, one with dropout and one without\n",
    "\n",
    "num_train = 500\n",
    "small_data = {\n",
    "    'X_train': data['X_train'][:num_train],\n",
    "    'y_train': data['y_train'][:num_train],\n",
    "    'X_val': data['X_val'],\n",
    "    'y_val': data['y_val'],\n",
    "}\n",
    "\n",
    "solvers = {}\n",
    "dropout_choices = [0.6, 1.0]\n",
    "for dropout in dropout_choices:\n",
    "    model = FullyConnectedNet([100, 100, 100], dropout=dropout)\n",
    "\n",
    "    solver = Solver(model, small_data,\n",
    "                    num_epochs=25, batch_size=100,\n",
    "                    update_rule='adam',\n",
    "                    optim_config={\n",
    "                      'learning_rate': 5e-4,\n",
    "                    },\n",
    "                    verbose=True, print_every=100)\n",
    "    solver.train()\n",
    "    solvers[dropout] = solver"
   ]
  },
  {
   "cell_type": "code",
   "execution_count": 43,
   "metadata": {},
   "outputs": [
    {
     "data": {
      "image/png": "[encoded data removed]",
      "text/plain": [
       "<Figure size 1500x1500 with 2 Axes>"
      ]
     },
     "metadata": {},
     "output_type": "display_data"
    }
   ],
   "source": [
    "# Plot train and validation accuracies of the two models\n",
    "\n",
    "train_accs = []\n",
    "val_accs = []\n",
    "for dropout in dropout_choices:\n",
    "    solver = solvers[dropout]\n",
    "    train_accs.append(solver.train_acc_history[-1])\n",
    "    val_accs.append(solver.val_acc_history[-1])\n",
    "\n",
    "plt.subplot(3, 1, 1)\n",
    "for dropout in dropout_choices:\n",
    "    plt.plot(solvers[dropout].train_acc_history, 'o', label='%.2f dropout' % dropout)\n",
    "plt.title('Train accuracy')\n",
    "plt.xlabel('Epoch')\n",
    "plt.ylabel('Accuracy')\n",
    "plt.legend(ncol=2, loc='lower right')\n",
    "  \n",
    "plt.subplot(3, 1, 2)\n",
    "for dropout in dropout_choices:\n",
    "    plt.plot(solvers[dropout].val_acc_history, 'o', label='%.2f dropout' % dropout)\n",
    "plt.title('Val accuracy')\n",
    "plt.xlabel('Epoch')\n",
    "plt.ylabel('Accuracy')\n",
    "plt.legend(ncol=2, loc='lower right')\n",
    "\n",
    "plt.gcf().set_size_inches(15, 15)\n",
    "plt.show()"
   ]
  },
  {
   "cell_type": "markdown",
   "metadata": {},
   "source": [
    "## Question\n",
    "\n",
    "Based off the results of this experiment, is dropout performing regularization?  Explain your answer."
   ]
  },
  {
   "attachments": {},
   "cell_type": "markdown",
   "metadata": {},
   "source": [
    "## Answer:\n",
    "\n",
    "I think here dropout's impact is not obvious considering we only trained on 500 data. The training accuracy is almost 100% but the validation accuracy is only about 30%. It implies that our model is seriously overfitting and we do need dropout.\n",
    "\n",
    "I changed the dropout from [0.6, 1.0] to [0.2, 1.0]. The results showed that model still achieved nearly 100% on training accuracy, but on validation accuracy with dropout the network performed better obviously compared to network without dropout.\n",
    "\n",
    "Then I changed the num_train to 5000 and tested it again. The result showed that with/without dropout the training accuracy still nearly to 90%. But on validation data, with dropout the network performed better (not too much though). \n",
    "\n",
    "Therefore we could say that dropout's capability: it could help to increase our model's generalization and prevent the overfitting at some extent. \n"
   ]
  },
  {
   "cell_type": "markdown",
   "metadata": {},
   "source": [
    "##### Final part of the assignment\n",
    "\n",
    "Get over 55% validation accuracy on CIFAR-10 by using the layers you have implemented.  You will be graded according to the following equation:\n",
    "\n",
    "min(floor((X - 32%)) / 23%, 1) \n",
    "where if you get 55% or higher validation accuracy, you get full points."
   ]
  },
  {
   "cell_type": "code",
   "execution_count": 50,
   "metadata": {
    "scrolled": false
   },
   "outputs": [
    {
     "name": "stdout",
     "output_type": "stream",
     "text": [
      "(Iteration 1 / 4900) loss: 2.335502\n",
      "(Epoch 0 / 10) train acc: 0.155000; val_acc: 0.166000\n",
      "(Iteration 51 / 4900) loss: 1.886194\n",
      "(Iteration 101 / 4900) loss: 1.833522\n",
      "(Iteration 151 / 4900) loss: 1.899841\n",
      "(Iteration 201 / 4900) loss: 1.610528\n",
      "(Iteration 251 / 4900) loss: 1.404449\n",
      "(Iteration 301 / 4900) loss: 1.631404\n",
      "(Iteration 351 / 4900) loss: 1.855381\n",
      "(Iteration 401 / 4900) loss: 1.708536\n",
      "(Iteration 451 / 4900) loss: 1.649088\n",
      "(Epoch 1 / 10) train acc: 0.447000; val_acc: 0.449000\n",
      "(Iteration 501 / 4900) loss: 1.621702\n",
      "(Iteration 551 / 4900) loss: 1.495131\n",
      "(Iteration 601 / 4900) loss: 1.505964\n",
      "(Iteration 651 / 4900) loss: 1.464100\n",
      "(Iteration 701 / 4900) loss: 1.504684\n",
      "(Iteration 751 / 4900) loss: 1.487932\n",
      "(Iteration 801 / 4900) loss: 1.551561\n",
      "(Iteration 851 / 4900) loss: 1.412798\n",
      "(Iteration 901 / 4900) loss: 1.461804\n",
      "(Iteration 951 / 4900) loss: 1.455468\n",
      "(Epoch 2 / 10) train acc: 0.496000; val_acc: 0.482000\n",
      "(Iteration 1001 / 4900) loss: 1.543609\n",
      "(Iteration 1051 / 4900) loss: 1.407979\n",
      "(Iteration 1101 / 4900) loss: 1.411821\n",
      "(Iteration 1151 / 4900) loss: 1.285107\n",
      "(Iteration 1201 / 4900) loss: 1.381421\n",
      "(Iteration 1251 / 4900) loss: 1.612857\n",
      "(Iteration 1301 / 4900) loss: 1.434685\n",
      "(Iteration 1351 / 4900) loss: 1.440963\n",
      "(Iteration 1401 / 4900) loss: 1.556632\n",
      "(Iteration 1451 / 4900) loss: 1.562366\n",
      "(Epoch 3 / 10) train acc: 0.542000; val_acc: 0.507000\n",
      "(Iteration 1501 / 4900) loss: 1.597746\n",
      "(Iteration 1551 / 4900) loss: 1.219000\n",
      "(Iteration 1601 / 4900) loss: 1.442981\n",
      "(Iteration 1651 / 4900) loss: 1.468734\n",
      "(Iteration 1701 / 4900) loss: 1.297483\n",
      "(Iteration 1751 / 4900) loss: 1.543932\n",
      "(Iteration 1801 / 4900) loss: 1.529823\n",
      "(Iteration 1851 / 4900) loss: 1.478847\n",
      "(Iteration 1901 / 4900) loss: 1.441085\n",
      "(Iteration 1951 / 4900) loss: 1.617001\n",
      "(Epoch 4 / 10) train acc: 0.547000; val_acc: 0.549000\n",
      "(Iteration 2001 / 4900) loss: 1.346974\n",
      "(Iteration 2051 / 4900) loss: 1.407445\n",
      "(Iteration 2101 / 4900) loss: 1.271642\n",
      "(Iteration 2151 / 4900) loss: 1.608927\n",
      "(Iteration 2201 / 4900) loss: 1.432519\n",
      "(Iteration 2251 / 4900) loss: 1.403091\n",
      "(Iteration 2301 / 4900) loss: 1.231440\n",
      "(Iteration 2351 / 4900) loss: 1.260361\n",
      "(Iteration 2401 / 4900) loss: 1.280835\n",
      "(Epoch 5 / 10) train acc: 0.577000; val_acc: 0.553000\n",
      "(Iteration 2451 / 4900) loss: 1.469316\n",
      "(Iteration 2501 / 4900) loss: 1.210299\n",
      "(Iteration 2551 / 4900) loss: 1.254554\n",
      "(Iteration 2601 / 4900) loss: 1.238156\n",
      "(Iteration 2651 / 4900) loss: 1.262420\n",
      "(Iteration 2701 / 4900) loss: 1.289816\n",
      "(Iteration 2751 / 4900) loss: 1.298516\n",
      "(Iteration 2801 / 4900) loss: 1.324259\n",
      "(Iteration 2851 / 4900) loss: 1.237017\n",
      "(Iteration 2901 / 4900) loss: 1.258834\n",
      "(Epoch 6 / 10) train acc: 0.585000; val_acc: 0.574000\n",
      "(Iteration 2951 / 4900) loss: 1.273547\n",
      "(Iteration 3001 / 4900) loss: 1.275819\n",
      "(Iteration 3051 / 4900) loss: 1.148007\n",
      "(Iteration 3101 / 4900) loss: 1.340733\n",
      "(Iteration 3151 / 4900) loss: 1.362481\n",
      "(Iteration 3201 / 4900) loss: 1.279735\n",
      "(Iteration 3251 / 4900) loss: 1.152038\n",
      "(Iteration 3301 / 4900) loss: 1.138591\n",
      "(Iteration 3351 / 4900) loss: 1.284542\n",
      "(Iteration 3401 / 4900) loss: 1.145100\n",
      "(Epoch 7 / 10) train acc: 0.614000; val_acc: 0.556000\n",
      "(Iteration 3451 / 4900) loss: 1.152454\n",
      "(Iteration 3501 / 4900) loss: 1.057248\n",
      "(Iteration 3551 / 4900) loss: 1.189292\n",
      "(Iteration 3601 / 4900) loss: 1.263029\n",
      "(Iteration 3651 / 4900) loss: 1.143761\n",
      "(Iteration 3701 / 4900) loss: 1.268868\n",
      "(Iteration 3751 / 4900) loss: 1.089459\n",
      "(Iteration 3801 / 4900) loss: 1.033787\n",
      "(Iteration 3851 / 4900) loss: 1.426417\n",
      "(Iteration 3901 / 4900) loss: 1.216828\n",
      "(Epoch 8 / 10) train acc: 0.593000; val_acc: 0.569000\n",
      "(Iteration 3951 / 4900) loss: 1.308395\n",
      "(Iteration 4001 / 4900) loss: 1.214057\n",
      "(Iteration 4051 / 4900) loss: 1.152115\n",
      "(Iteration 4101 / 4900) loss: 1.283493\n",
      "(Iteration 4151 / 4900) loss: 1.297368\n",
      "(Iteration 4201 / 4900) loss: 1.207147\n",
      "(Iteration 4251 / 4900) loss: 1.205163\n",
      "(Iteration 4301 / 4900) loss: 1.183897\n",
      "(Iteration 4351 / 4900) loss: 1.144597\n",
      "(Iteration 4401 / 4900) loss: 1.354404\n",
      "(Epoch 9 / 10) train acc: 0.643000; val_acc: 0.575000\n",
      "(Iteration 4451 / 4900) loss: 1.123538\n",
      "(Iteration 4501 / 4900) loss: 1.196001\n",
      "(Iteration 4551 / 4900) loss: 1.001292\n",
      "(Iteration 4601 / 4900) loss: 1.160576\n",
      "(Iteration 4651 / 4900) loss: 1.212783\n",
      "(Iteration 4701 / 4900) loss: 1.230949\n",
      "(Iteration 4751 / 4900) loss: 1.254236\n",
      "(Iteration 4801 / 4900) loss: 1.232851\n",
      "(Iteration 4851 / 4900) loss: 1.364168\n",
      "(Epoch 10 / 10) train acc: 0.652000; val_acc: 0.580000\n"
     ]
    }
   ],
   "source": [
    "# ================================================================ #\n",
    "# YOUR CODE HERE:\n",
    "#   Implement a FC-net that achieves at least 55% validation accuracy\n",
    "#   on CIFAR-10.\n",
    "# ================================================================ #\n",
    "optimizer = 'adam'\n",
    "dropout=0.6\n",
    "layer_dims = [500, 500, 500]\n",
    "weight_scale = 0.01\n",
    "learning_rate = 1e-3\n",
    "lr_decay = 0.9\n",
    "\n",
    "model = FullyConnectedNet(layer_dims, weight_scale=weight_scale,\n",
    "                          use_batchnorm=True, dropout = dropout)\n",
    "\n",
    "solver = Solver(model, data,\n",
    "                num_epochs=10, batch_size=100,\n",
    "                update_rule=optimizer,\n",
    "                optim_config={\n",
    "                  'learning_rate': learning_rate,\n",
    "                },\n",
    "                lr_decay=lr_decay,\n",
    "                verbose=True, print_every=50)\n",
    "solver.train()\n",
    "\n",
    "# ================================================================ #\n",
    "# END YOUR CODE HERE\n",
    "# ================================================================ #\n"
   ]
  },
  {
   "cell_type": "code",
   "execution_count": 51,
   "metadata": {},
   "outputs": [
    {
     "name": "stdout",
     "output_type": "stream",
     "text": [
      "Validation set accuracy: 0.58\n",
      "Test set accuracy: 0.564\n"
     ]
    }
   ],
   "source": [
    "y_test_pred = np.argmax(model.loss(data['X_test']), axis=1)\n",
    "y_val_pred = np.argmax(model.loss(data['X_val']), axis=1)\n",
    "print('Validation set accuracy: {}'.format(np.mean(y_val_pred == data['y_val'])))\n",
    "print('Test set accuracy: {}'.format(np.mean(y_test_pred == data['y_test'])))"
   ]
  }
 ],
 "metadata": {
  "kernelspec": {
   "display_name": "219proj1",
   "language": "python",
   "name": "python3"
  },
  "language_info": {
   "codemirror_mode": {
    "name": "ipython",
    "version": 3
   },
   "file_extension": ".py",
   "mimetype": "text/x-python",
   "name": "python",
   "nbconvert_exporter": "python",
   "pygments_lexer": "ipython3",
   "version": "3.10.8"
  },
  "vscode": {
   "interpreter": {
    "hash": "678dded93ceebc1b80a429ea0b939707448da00f422398de3c7e5a157a0025e9"
   }
  }
 },
 "nbformat": 4,
 "nbformat_minor": 2
}
