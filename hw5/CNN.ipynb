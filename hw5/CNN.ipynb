{
 "cells": [
  {
   "cell_type": "markdown",
   "metadata": {},
   "source": [
    "# Convolutional neural networks\n",
    "\n",
    "In this notebook, we'll put together our convolutional layers to implement a 3-layer CNN.  Then, we'll ask you to implement a CNN that can achieve > 65% validation error on CIFAR-10.\n",
    "\n",
    "If you have not completed the Spatial BatchNorm Notebook, please see the following description from that notebook:\n",
    "\n",
    "Please copy and paste your prior implemented code from HW #4 to start this assignment.  If you did not correctly implement the layers in HW #4, you may collaborate with a classmate to use their layer implementations from HW #4.  You may also visit TA or Prof OH to correct your implementation.  \n",
    "\n",
    "You'll want to copy and paste from HW #4:\n",
    "    - layers.py for your FC network layers, as well as batchnorm and dropout.\n",
    "    - layer_utils.py for your combined FC network layers.\n",
    "    - optim.py for your optimizers.\n",
    "\n",
    "Be sure to place these in the `nndl/` directory so they're imported correctly.  Note, as announced in class, we will not be releasing our solutions."
   ]
  },
  {
   "cell_type": "code",
   "execution_count": 2,
   "metadata": {},
   "outputs": [],
   "source": [
    "# As usual, a bit of setup\n",
    "\n",
    "import numpy as np\n",
    "import matplotlib.pyplot as plt\n",
    "from nndl.cnn import *\n",
    "from utils.data_utils import get_CIFAR10_data\n",
    "from utils.gradient_check import eval_numerical_gradient_array, eval_numerical_gradient\n",
    "from nndl.layers import *\n",
    "from nndl.conv_layers import *\n",
    "from utils.fast_layers import *\n",
    "from utils.solver import Solver\n",
    "\n",
    "%matplotlib inline\n",
    "plt.rcParams['figure.figsize'] = (10.0, 8.0) # set default size of plots\n",
    "plt.rcParams['image.interpolation'] = 'nearest'\n",
    "plt.rcParams['image.cmap'] = 'gray'\n",
    "\n",
    "# for auto-reloading external modules\n",
    "# see http://stackoverflow.com/questions/1907993/autoreload-of-modules-in-ipython\n",
    "%load_ext autoreload\n",
    "%autoreload 2\n",
    "\n",
    "def rel_error(x, y):\n",
    "  \"\"\" returns relative error \"\"\"\n",
    "  return np.max(np.abs(x - y) / (np.maximum(1e-8, np.abs(x) + np.abs(y))))"
   ]
  },
  {
   "cell_type": "code",
   "execution_count": 3,
   "metadata": {},
   "outputs": [
    {
     "name": "stdout",
     "output_type": "stream",
     "text": [
      "X_train: (49000, 3, 32, 32) \n",
      "y_train: (49000,) \n",
      "X_val: (1000, 3, 32, 32) \n",
      "y_val: (1000,) \n",
      "X_test: (1000, 3, 32, 32) \n",
      "y_test: (1000,) \n"
     ]
    }
   ],
   "source": [
    "# Load the (preprocessed) CIFAR10 data.\n",
    "\n",
    "data = get_CIFAR10_data()\n",
    "for k in data.keys():\n",
    "  print('{}: {} '.format(k, data[k].shape))"
   ]
  },
  {
   "cell_type": "markdown",
   "metadata": {},
   "source": [
    "## Three layer CNN\n",
    "\n",
    "In this notebook, you will implement a three layer CNN.  The `ThreeLayerConvNet` class is in `nndl/cnn.py`.  You'll need to modify that code for this section, including the initialization, as well as the calculation of the loss and gradients.  You should be able to use the building blocks you have either earlier coded or that we have provided.  Be sure to use the fast layers.\n",
    "\n",
    "The architecture of this CNN will be:\n",
    "\n",
    "conv - relu - 2x2 max pool - affine - relu - affine - softmax\n",
    "\n",
    "We won't use batchnorm yet.  You've also done enough of these to know how to debug; use the cells below.\n",
    "\n",
    "Note: As we are implementing several layers CNN networks. The gradient error can be expected for the `eval_numerical_gradient()` function. If your `W1 max relative error` and `W2 max relative error` are around or below 0.01, they should be acceptable. Other errors should be less than 1e-5. "
   ]
  },
  {
   "cell_type": "code",
   "execution_count": 12,
   "metadata": {},
   "outputs": [
    {
     "name": "stdout",
     "output_type": "stream",
     "text": [
      "W1 max relative error: 0.004147764297254919\n",
      "W2 max relative error: 0.00035640556113452113\n",
      "W3 max relative error: 1.9429975395009858e-05\n",
      "b1 max relative error: 1.999998567206268e-05\n",
      "b2 max relative error: 2.775664154916678e-08\n",
      "b3 max relative error: 1.8165967121873537e-09\n"
     ]
    }
   ],
   "source": [
    "num_inputs = 2\n",
    "input_dim = (3, 16, 16)\n",
    "reg = 0.0\n",
    "num_classes = 10\n",
    "X = np.random.randn(num_inputs, *input_dim)\n",
    "y = np.random.randint(num_classes, size=num_inputs)\n",
    "\n",
    "model = ThreeLayerConvNet(num_filters=3, filter_size=3,\n",
    "                          input_dim=input_dim, hidden_dim=7,\n",
    "                          dtype=np.float64)\n",
    "loss, grads = model.loss(X, y)\n",
    "for param_name in sorted(grads):\n",
    "    f = lambda _: model.loss(X, y)[0]\n",
    "    param_grad_num = eval_numerical_gradient(f, model.params[param_name], verbose=False, h=1e-6)\n",
    "    e = rel_error(param_grad_num, grads[param_name])\n",
    "    print('{} max relative error: {}'.format(param_name, rel_error(param_grad_num, grads[param_name])))"
   ]
  },
  {
   "cell_type": "markdown",
   "metadata": {},
   "source": [
    "### Overfit small dataset\n",
    "\n",
    "To check your CNN implementation, let's overfit a small dataset."
   ]
  },
  {
   "cell_type": "code",
   "execution_count": 18,
   "metadata": {},
   "outputs": [
    {
     "name": "stdout",
     "output_type": "stream",
     "text": [
      "(Iteration 1 / 20) loss: 2.427149\n",
      "(Epoch 0 / 10) train acc: 0.140000; val_acc: 0.107000\n",
      "(Iteration 2 / 20) loss: 4.001837\n",
      "(Epoch 1 / 10) train acc: 0.180000; val_acc: 0.128000\n",
      "(Iteration 3 / 20) loss: 2.966391\n",
      "(Iteration 4 / 20) loss: 2.116630\n",
      "(Epoch 2 / 10) train acc: 0.260000; val_acc: 0.176000\n",
      "(Iteration 5 / 20) loss: 2.591275\n",
      "(Iteration 6 / 20) loss: 2.713132\n",
      "(Epoch 3 / 10) train acc: 0.380000; val_acc: 0.137000\n",
      "(Iteration 7 / 20) loss: 2.003755\n",
      "(Iteration 8 / 20) loss: 1.762858\n",
      "(Epoch 4 / 10) train acc: 0.440000; val_acc: 0.160000\n",
      "(Iteration 9 / 20) loss: 1.727864\n",
      "(Iteration 10 / 20) loss: 1.772313\n",
      "(Epoch 5 / 10) train acc: 0.570000; val_acc: 0.199000\n",
      "(Iteration 11 / 20) loss: 1.543758\n",
      "(Iteration 12 / 20) loss: 1.538889\n",
      "(Epoch 6 / 10) train acc: 0.520000; val_acc: 0.213000\n",
      "(Iteration 13 / 20) loss: 1.355336\n",
      "(Iteration 14 / 20) loss: 1.319761\n",
      "(Epoch 7 / 10) train acc: 0.630000; val_acc: 0.217000\n",
      "(Iteration 15 / 20) loss: 1.142546\n",
      "(Iteration 16 / 20) loss: 1.133753\n",
      "(Epoch 8 / 10) train acc: 0.690000; val_acc: 0.222000\n",
      "(Iteration 17 / 20) loss: 0.821817\n",
      "(Iteration 18 / 20) loss: 0.825520\n",
      "(Epoch 9 / 10) train acc: 0.790000; val_acc: 0.205000\n",
      "(Iteration 19 / 20) loss: 0.660181\n",
      "(Iteration 20 / 20) loss: 0.509668\n",
      "(Epoch 10 / 10) train acc: 0.900000; val_acc: 0.208000\n"
     ]
    }
   ],
   "source": [
    "num_train = 100\n",
    "small_data = {\n",
    "  'X_train': data['X_train'][:num_train],\n",
    "  'y_train': data['y_train'][:num_train],\n",
    "  'X_val': data['X_val'],\n",
    "  'y_val': data['y_val'],\n",
    "}\n",
    "\n",
    "model = ThreeLayerConvNet(weight_scale=1e-2)\n",
    "\n",
    "solver = Solver(model, small_data,\n",
    "                num_epochs=10, batch_size=50,\n",
    "                update_rule='adam',\n",
    "                optim_config={\n",
    "                  'learning_rate': 1e-3,\n",
    "                },\n",
    "                verbose=True, print_every=1)\n",
    "solver.train()"
   ]
  },
  {
   "cell_type": "code",
   "execution_count": 19,
   "metadata": {},
   "outputs": [
    {
     "data": {
      "image/png": "[encoded data removed]",
      "text/plain": [
       "<Figure size 1000x800 with 2 Axes>"
      ]
     },
     "metadata": {},
     "output_type": "display_data"
    }
   ],
   "source": [
    "plt.subplot(2, 1, 1)\n",
    "plt.plot(solver.loss_history, 'o')\n",
    "plt.xlabel('iteration')\n",
    "plt.ylabel('loss')\n",
    "\n",
    "plt.subplot(2, 1, 2)\n",
    "plt.plot(solver.train_acc_history, '-o')\n",
    "plt.plot(solver.val_acc_history, '-o')\n",
    "plt.legend(['train', 'val'], loc='upper left')\n",
    "plt.xlabel('epoch')\n",
    "plt.ylabel('accuracy')\n",
    "plt.show()"
   ]
  },
  {
   "cell_type": "markdown",
   "metadata": {},
   "source": [
    "## Train the network\n",
    "\n",
    "Now we train the 3 layer CNN on CIFAR-10 and assess its accuracy."
   ]
  },
  {
   "cell_type": "code",
   "execution_count": 20,
   "metadata": {
    "scrolled": false
   },
   "outputs": [
    {
     "name": "stdout",
     "output_type": "stream",
     "text": [
      "(Iteration 1 / 980) loss: 2.304422\n",
      "(Epoch 0 / 1) train acc: 0.100000; val_acc: 0.087000\n",
      "(Iteration 21 / 980) loss: 2.262312\n",
      "(Iteration 41 / 980) loss: 2.129120\n",
      "(Iteration 61 / 980) loss: 1.746986\n",
      "(Iteration 81 / 980) loss: 2.102858\n",
      "(Iteration 101 / 980) loss: 1.927470\n",
      "(Iteration 121 / 980) loss: 1.941843\n",
      "(Iteration 141 / 980) loss: 1.871255\n",
      "(Iteration 161 / 980) loss: 1.791576\n",
      "(Iteration 181 / 980) loss: 1.854156\n",
      "(Iteration 201 / 980) loss: 1.935296\n",
      "(Iteration 221 / 980) loss: 1.684416\n",
      "(Iteration 241 / 980) loss: 1.942395\n",
      "(Iteration 261 / 980) loss: 1.957680\n",
      "(Iteration 281 / 980) loss: 1.693751\n",
      "(Iteration 301 / 980) loss: 1.571631\n",
      "(Iteration 321 / 980) loss: 1.760240\n",
      "(Iteration 341 / 980) loss: 1.676288\n",
      "(Iteration 361 / 980) loss: 1.529702\n",
      "(Iteration 381 / 980) loss: 1.544858\n",
      "(Iteration 401 / 980) loss: 1.655467\n",
      "(Iteration 421 / 980) loss: 1.610738\n",
      "(Iteration 441 / 980) loss: 1.483215\n",
      "(Iteration 461 / 980) loss: 1.608440\n",
      "(Iteration 481 / 980) loss: 1.477663\n",
      "(Iteration 501 / 980) loss: 1.615506\n",
      "(Iteration 521 / 980) loss: 1.508788\n",
      "(Iteration 541 / 980) loss: 1.473477\n",
      "(Iteration 561 / 980) loss: 1.629963\n",
      "(Iteration 581 / 980) loss: 1.751849\n",
      "(Iteration 601 / 980) loss: 1.597946\n",
      "(Iteration 621 / 980) loss: 1.346733\n",
      "(Iteration 641 / 980) loss: 1.759306\n",
      "(Iteration 661 / 980) loss: 1.415563\n",
      "(Iteration 681 / 980) loss: 1.378654\n",
      "(Iteration 701 / 980) loss: 1.627077\n",
      "(Iteration 721 / 980) loss: 1.608908\n",
      "(Iteration 741 / 980) loss: 1.458081\n",
      "(Iteration 761 / 980) loss: 1.430556\n",
      "(Iteration 781 / 980) loss: 1.595147\n",
      "(Iteration 801 / 980) loss: 1.704928\n",
      "(Iteration 821 / 980) loss: 1.505875\n",
      "(Iteration 841 / 980) loss: 1.368541\n",
      "(Iteration 861 / 980) loss: 1.569324\n",
      "(Iteration 881 / 980) loss: 1.455518\n",
      "(Iteration 901 / 980) loss: 1.608397\n",
      "(Iteration 921 / 980) loss: 1.470673\n",
      "(Iteration 941 / 980) loss: 1.464689\n",
      "(Iteration 961 / 980) loss: 1.254539\n",
      "(Epoch 1 / 1) train acc: 0.453000; val_acc: 0.442000\n"
     ]
    }
   ],
   "source": [
    "model = ThreeLayerConvNet(weight_scale=0.001, hidden_dim=500, reg=0.001)\n",
    "\n",
    "solver = Solver(model, data,\n",
    "                num_epochs=1, batch_size=50,\n",
    "                update_rule='adam',\n",
    "                optim_config={\n",
    "                  'learning_rate': 1e-3,\n",
    "                },\n",
    "                verbose=True, print_every=20)\n",
    "solver.train()"
   ]
  },
  {
   "cell_type": "markdown",
   "metadata": {},
   "source": [
    "# Get > 65% validation accuracy on CIFAR-10.\n",
    "\n",
    "In the last part of the assignment, we'll now ask you to train a CNN to get better than 65% validation accuracy on CIFAR-10.\n",
    "\n",
    "### Things you should try:\n",
    "- Filter size: Above we used 7x7; but VGGNet and onwards showed stacks of 3x3 filters are good.  \n",
    "- Number of filters: Above we used 32 filters. Do more or fewer do better?\n",
    "- Batch normalization: Try adding spatial batch normalization after convolution layers and vanilla batch normalization aafter affine layers. Do your networks train faster?\n",
    "- Network architecture: Can a deeper CNN do better?  Consider these architectures:\n",
    "    - [conv-relu-pool]xN - conv - relu - [affine]xM - [softmax or SVM]\n",
    "    - [conv-relu-pool]XN - [affine]XM - [softmax or SVM]\n",
    "    - [conv-relu-conv-relu-pool]xN - [affine]xM - [softmax or SVM]\n",
    "\n",
    "### Tips for training\n",
    "For each network architecture that you try, you should tune the learning rate and regularization strength. When doing this there are a couple important things to keep in mind:\n",
    "\n",
    "- If the parameters are working well, you should see improvement within a few hundred iterations\n",
    "- Remember the coarse-to-fine approach for hyperparameter tuning: start by testing a large range of hyperparameters for just a few training iterations to find the combinations of parameters that are working at all.\n",
    "- Once you have found some sets of parameters that seem to work, search more finely around these parameters. You may need to train for more epochs."
   ]
  },
  {
   "cell_type": "code",
   "execution_count": 26,
   "metadata": {},
   "outputs": [
    {
     "name": "stdout",
     "output_type": "stream",
     "text": [
      "(Iteration 1 / 686) loss: 2.304225\n",
      "(Epoch 0 / 7) train acc: 0.101500; val_acc: 0.079000\n",
      "(Iteration 21 / 686) loss: 1.799183\n",
      "(Iteration 41 / 686) loss: 1.574632\n",
      "(Iteration 61 / 686) loss: 1.458151\n",
      "(Iteration 81 / 686) loss: 1.415268\n",
      "(Epoch 1 / 7) train acc: 0.538000; val_acc: 0.556000\n",
      "(Iteration 101 / 686) loss: 1.396011\n",
      "(Iteration 121 / 686) loss: 1.296369\n",
      "(Iteration 141 / 686) loss: 1.221986\n",
      "(Iteration 161 / 686) loss: 1.303662\n",
      "(Iteration 181 / 686) loss: 1.193778\n",
      "(Epoch 2 / 7) train acc: 0.634500; val_acc: 0.602000\n",
      "(Iteration 201 / 686) loss: 1.173028\n",
      "(Iteration 221 / 686) loss: 1.253716\n",
      "(Iteration 241 / 686) loss: 1.148696\n",
      "(Iteration 261 / 686) loss: 1.005526\n",
      "(Iteration 281 / 686) loss: 1.081096\n",
      "(Epoch 3 / 7) train acc: 0.662000; val_acc: 0.618000\n",
      "(Iteration 301 / 686) loss: 1.062798\n",
      "(Iteration 321 / 686) loss: 1.016557\n",
      "(Iteration 341 / 686) loss: 1.131451\n",
      "(Iteration 361 / 686) loss: 1.121225\n",
      "(Iteration 381 / 686) loss: 1.035320\n",
      "(Epoch 4 / 7) train acc: 0.697000; val_acc: 0.634000\n",
      "(Iteration 401 / 686) loss: 0.949677\n",
      "(Iteration 421 / 686) loss: 0.900841\n",
      "(Iteration 441 / 686) loss: 0.922167\n",
      "(Iteration 461 / 686) loss: 0.885699\n",
      "(Iteration 481 / 686) loss: 0.963267\n",
      "(Epoch 5 / 7) train acc: 0.753000; val_acc: 0.664000\n",
      "(Iteration 501 / 686) loss: 0.937800\n",
      "(Iteration 521 / 686) loss: 0.855995\n",
      "(Iteration 541 / 686) loss: 0.881812\n",
      "(Iteration 561 / 686) loss: 0.814040\n",
      "(Iteration 581 / 686) loss: 0.900426\n",
      "(Epoch 6 / 7) train acc: 0.748000; val_acc: 0.626000\n",
      "(Iteration 601 / 686) loss: 0.801608\n",
      "(Iteration 621 / 686) loss: 0.828294\n",
      "(Iteration 641 / 686) loss: 0.863463\n",
      "(Iteration 661 / 686) loss: 0.773685\n",
      "(Iteration 681 / 686) loss: 0.752850\n",
      "(Epoch 7 / 7) train acc: 0.781500; val_acc: 0.654000\n"
     ]
    }
   ],
   "source": [
    "# ================================================================ #\n",
    "# YOUR CODE HERE:\n",
    "#   Implement a CNN to achieve greater than 65% validation accuracy\n",
    "#   on CIFAR-10.\n",
    "# ================================================================ #\n",
    "model = ThreeLayerConvNet(weight_scale=0.001, hidden_dim=400, reg=0.001, num_filters = 32, filter_size = 3)\n",
    "\n",
    "solver = Solver(model, data,\n",
    "                num_epochs=7, batch_size=500,\n",
    "                update_rule='adam',\n",
    "                optim_config={\n",
    "                  'learning_rate': 1e-3,\n",
    "                },\n",
    "                verbose=True, print_every=20)\n",
    "solver.train()\n",
    "\n",
    "# ================================================================ #\n",
    "# END YOUR CODE HERE\n",
    "# ================================================================ #"
   ]
  },
  {
   "cell_type": "code",
   "execution_count": 28,
   "metadata": {},
   "outputs": [
    {
     "name": "stdout",
     "output_type": "stream",
     "text": [
      "Validation set accuracy: 0.664\n"
     ]
    }
   ],
   "source": [
    "y_val_pred = np.argmax(model.loss(data['X_val']), axis=1)\n",
    "print('Validation set accuracy: {}'.format(np.mean(y_val_pred == data['y_val'])))"
   ]
  }
 ],
 "metadata": {
  "kernelspec": {
   "display_name": "Python 3 (ipykernel)",
   "language": "python",
   "name": "python3"
  },
  "language_info": {
   "codemirror_mode": {
    "name": "ipython",
    "version": 3
   },
   "file_extension": ".py",
   "mimetype": "text/x-python",
   "name": "python",
   "nbconvert_exporter": "python",
   "pygments_lexer": "ipython3",
   "version": "3.10.8"
  },
  "pycharm": {
   "stem_cell": {
    "cell_type": "raw",
    "metadata": {
     "collapsed": false
    },
    "source": []
   }
  },
  "vscode": {
   "interpreter": {
    "hash": "678dded93ceebc1b80a429ea0b939707448da00f422398de3c7e5a157a0025e9"
   }
  }
 },
 "nbformat": 4,
 "nbformat_minor": 2
}
